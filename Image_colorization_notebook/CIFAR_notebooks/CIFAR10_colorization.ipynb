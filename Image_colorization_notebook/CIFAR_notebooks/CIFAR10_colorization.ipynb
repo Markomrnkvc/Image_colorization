{
 "cells": [
  {
   "cell_type": "markdown",
   "metadata": {},
   "source": [
    "# Image colorization for Images of size 32*32"
   ]
  },
  {
   "cell_type": "code",
   "execution_count": 1,
   "metadata": {},
   "outputs": [],
   "source": [
    "import torch\n",
    "import torch.nn.functional as F\n",
    "import torch.nn as nn\n",
    "import torch.optim as optim\n",
    "import torchvision\n",
    "from torchvision import transforms\n",
    "from torchvision.transforms import Grayscale\n",
    "import numpy as np\n",
    "from PIL import Image\n",
    "import cv2 as cv\n",
    "\n",
    "\n",
    "\n",
    "torch.cuda.is_available()\n",
    "# Device configuration\n",
    "device = torch.device('cuda' if torch.cuda.is_available() else 'cpu')"
   ]
  },
  {
   "cell_type": "code",
   "execution_count": 2,
   "metadata": {},
   "outputs": [],
   "source": [
    "#Hyperparameters\n",
    "EPOCHS = 20\n",
    "BATCH_SIZE = 90\n",
    "LEARNING_RATE = 0.002\n"
   ]
  },
  {
   "cell_type": "code",
   "execution_count": 3,
   "metadata": {},
   "outputs": [
    {
     "name": "stdout",
     "output_type": "stream",
     "text": [
      "Files already downloaded and verified\n",
      "Files already downloaded and verified\n"
     ]
    }
   ],
   "source": [
    "import torch.utils\n",
    "\n",
    "\n",
    "transform = transforms.Compose([transforms.ToTensor()\n",
    "                                #transforms.Normalize([0.5, 0.5, 0.5], [0.5, 0.5, 0.5])\n",
    "                                ])\n",
    "\n",
    "train_dataset = torchvision.datasets.CIFAR10(root = \"./CIFAR_data\", train=True, download=True, transform=transform)\n",
    "\n",
    "test_dataset = torchvision.datasets.CIFAR10(root = \"./CIFAR_data\", train=False, download=True, transform=transform)\n",
    "\n",
    "train_loader = torch.utils.data.DataLoader(train_dataset, batch_size=BATCH_SIZE, shuffle=True)\n",
    "\n",
    "test_loader = torch.utils.data.DataLoader(test_dataset, batch_size=BATCH_SIZE, shuffle=True)"
   ]
  },
  {
   "cell_type": "code",
   "execution_count": 4,
   "metadata": {},
   "outputs": [],
   "source": [
    "class ConvNet(nn.Module):\n",
    "    def __init__(self):\n",
    "        super(ConvNet, self).__init__()\n",
    "        self.pool = nn.MaxPool2d(2,2)\n",
    "        self.conv1 = nn.Conv2d(1, 32, 3)\n",
    "        self.conv2 = nn.ConvTranspose2d(32, 64, 3, stride = 2)\n",
    "        self.conv3 = nn.ConvTranspose2d(64, 128, 4, stride = 4)\n",
    "        self.conv4 = nn.ConvTranspose2d(128, 64, 3)\n",
    "        #self.conv6 = nn.ConvTranspose2d(256, 256, 3, stride = 2)\n",
    "        self.conv5 = nn.Conv2d(64, 3, 1)\n",
    "    def forward(self, x):\n",
    "        #print(x.shape)\n",
    "        x = F.relu(self.conv1(x))   \n",
    "        #print(x.shape)\n",
    "        x = self.pool(x)    \n",
    "        #print(f\"nach pooling {x.shape}\")  \n",
    "        x = F.relu(self.conv2(x))   \n",
    "        #print(x.shape)  \n",
    "        #x = self.pool(x)            \n",
    "        #print(f\"nach pooling {x.shape}\")\n",
    "        x = F.relu(self.conv3(x))   \n",
    "        #print(x.shape)  \n",
    "        x = self.pool(x)            \n",
    "        #print(f\"nach pooling {x.shape}\")\n",
    "        x = F.relu(self.conv4(x))   \n",
    "        #x = F.relu(self.conv6(x)) \n",
    "        #print(x.shape)  \n",
    "        x = self.pool(x)         \n",
    "        #print(x.shape)  \n",
    "        #x = F.relu(self.conv5(x))  \n",
    "        x = torch.sigmoid(self.conv5(x))\n",
    "        #print(f\"nach sigmoid {x.shape}\")\n",
    "        return x\n",
    "        \n",
    "model = ConvNet().to(device) #verschieben auf die GPU"
   ]
  },
  {
   "cell_type": "code",
   "execution_count": 5,
   "metadata": {},
   "outputs": [],
   "source": [
    "criterion = nn.MSELoss().to(device)\n",
    "optimizer = optim.Adam(model.parameters(), lr = LEARNING_RATE)"
   ]
  },
  {
   "cell_type": "code",
   "execution_count": 6,
   "metadata": {},
   "outputs": [],
   "source": [
    "def rgb_to_gray(img):\n",
    "    return img.mean(dim=1, keepdim=True)\n",
    "\n",
    "def denormalize(tensor):\n",
    "    # Annahme: tensor hat Form (C, H, W) und ist im Bereich [-1, 1] nach Normalisierung\n",
    "    denorm = tensor.clone()  # Erstellen einer Kopie des Tensors, um das Original zu bewahren\n",
    "    for t in range(denorm.size(0)):  # Für jeden Farbkanal\n",
    "        denorm[t] = denorm[t] * 0.5 + 0.5  # Rücknormalisierung mit Standardabweichung und Mittelwert\n",
    "    return denorm"
   ]
  },
  {
   "cell_type": "code",
   "execution_count": 7,
   "metadata": {},
   "outputs": [],
   "source": [
    "def train_one_epoch(epoch_index, tb_writer):\n",
    "    running_loss = 0.\n",
    "    last_loss = 0.\n",
    "\n",
    "    # Here, we use enumerate(training_loader) instead of\n",
    "    # iter(training_loader) so that we can track the batch\n",
    "    # index and do some intra-epoch reporting\n",
    "    for i, (images,_) in enumerate(train_loader):\n",
    "        #grayscaling images for training\n",
    "        grayscale_images = rgb_to_gray(images)\n",
    "        images = images.to(device)\n",
    "        # defining model inputs\n",
    "        inputs= grayscale_images.to(device)\n",
    "\n",
    "\n",
    "        # Zero your gradients for every batch!\n",
    "        optimizer.zero_grad()\n",
    "\n",
    "        # Make predictions for this batch\n",
    "        outputs = model(inputs)\n",
    "        \n",
    "        # Compute the loss and its gradients\n",
    "        loss = criterion(outputs, images)\n",
    "        loss.backward()\n",
    "\n",
    "        # Adjust learning weights\n",
    "        optimizer.step()\n",
    "\n",
    "        # Gather data and report\n",
    "        running_loss += loss.item()\n",
    "        if i % 1000 == 999:\n",
    "            last_loss = running_loss / 1000 # loss per batch\n",
    "            print('  batch {} loss: {}'.format(i + 1, last_loss))\n",
    "            tb_x = epoch_index * len(train_loader) + i + 1\n",
    "            tb_writer.add_scalar('Loss/train', last_loss, tb_x)\n",
    "            running_loss = 0.\n",
    "\n",
    "    return last_loss\n",
    "\n"
   ]
  },
  {
   "cell_type": "code",
   "execution_count": 8,
   "metadata": {},
   "outputs": [
    {
     "name": "stdout",
     "output_type": "stream",
     "text": [
      "EPOCH 1:\n"
     ]
    },
    {
     "ename": "KeyboardInterrupt",
     "evalue": "",
     "output_type": "error",
     "traceback": [
      "\u001b[1;31m---------------------------------------------------------------------------\u001b[0m",
      "\u001b[1;31mKeyboardInterrupt\u001b[0m                         Traceback (most recent call last)",
      "Cell \u001b[1;32mIn[8], line 21\u001b[0m\n\u001b[0;32m     19\u001b[0m \u001b[38;5;66;03m# Make sure gradient tracking is on, and do a pass over the data\u001b[39;00m\n\u001b[0;32m     20\u001b[0m model\u001b[38;5;241m.\u001b[39mtrain(\u001b[38;5;28;01mTrue\u001b[39;00m)\n\u001b[1;32m---> 21\u001b[0m avg_loss \u001b[38;5;241m=\u001b[39m train_one_epoch(epoch_number, writer)\n\u001b[0;32m     24\u001b[0m running_vloss \u001b[38;5;241m=\u001b[39m \u001b[38;5;241m0.0\u001b[39m\n\u001b[0;32m     25\u001b[0m \u001b[38;5;66;03m# Set the model to evaluation mode, disabling dropout and using population\u001b[39;00m\n\u001b[0;32m     26\u001b[0m \u001b[38;5;66;03m# statistics for batch normalization.\u001b[39;00m\n",
      "Cell \u001b[1;32mIn[7], line 30\u001b[0m, in \u001b[0;36mtrain_one_epoch\u001b[1;34m(epoch_index, tb_writer)\u001b[0m\n\u001b[0;32m     27\u001b[0m optimizer\u001b[38;5;241m.\u001b[39mstep()\n\u001b[0;32m     29\u001b[0m \u001b[38;5;66;03m# Gather data and report\u001b[39;00m\n\u001b[1;32m---> 30\u001b[0m running_loss \u001b[38;5;241m+\u001b[39m\u001b[38;5;241m=\u001b[39m loss\u001b[38;5;241m.\u001b[39mitem()\n\u001b[0;32m     31\u001b[0m \u001b[38;5;28;01mif\u001b[39;00m i \u001b[38;5;241m%\u001b[39m \u001b[38;5;241m1000\u001b[39m \u001b[38;5;241m==\u001b[39m \u001b[38;5;241m999\u001b[39m:\n\u001b[0;32m     32\u001b[0m     last_loss \u001b[38;5;241m=\u001b[39m running_loss \u001b[38;5;241m/\u001b[39m \u001b[38;5;241m1000\u001b[39m \u001b[38;5;66;03m# loss per batch\u001b[39;00m\n",
      "\u001b[1;31mKeyboardInterrupt\u001b[0m: "
     ]
    }
   ],
   "source": [
    "\"\"\"code from pytorch turorial\n",
    "https://pytorch.org/tutorials/beginner/introyt/trainingyt.html\"\"\"\n",
    "import os\n",
    "\n",
    "from datetime import datetime\n",
    "from torch.utils.tensorboard import SummaryWriter\n",
    "\n",
    "# Initializing in a separate cell so we can easily add more epochs to the same run\n",
    "timestamp = datetime.now().strftime('%Y%m%d_%H%M%S')\n",
    "writer = SummaryWriter('runs/CIFAR_colorization_HSV_{}'.format(timestamp))\n",
    "epoch_number = 0\n",
    "\n",
    "best_vloss = 1_000_000.\n",
    "\n",
    "model = model.to(device)\n",
    "for epoch in range(EPOCHS):\n",
    "    print('EPOCH {}:'.format(epoch_number + 1))\n",
    "\n",
    "    # Make sure gradient tracking is on, and do a pass over the data\n",
    "    model.train(True)\n",
    "    avg_loss = train_one_epoch(epoch_number, writer)\n",
    "\n",
    "\n",
    "    running_vloss = 0.0\n",
    "    # Set the model to evaluation mode, disabling dropout and using population\n",
    "    # statistics for batch normalization.\n",
    "    model.eval()\n",
    "\n",
    "    # Disable gradient computation and reduce memory consumption.\n",
    "    with torch.no_grad():\n",
    "        for i,  (vimages,_) in enumerate(test_loader):\n",
    "            vimages = vimages.to(device)\n",
    "            vimages_grayscale = rgb_to_gray(vimages)\n",
    "            vinputs = vimages_grayscale.to(device)\n",
    "            voutputs = model(vinputs).to(device)\n",
    "            vloss = criterion(voutputs, vimages)\n",
    "            running_vloss += vloss\n",
    "\n",
    "    avg_vloss = running_vloss / (i + 1)\n",
    "    print('LOSS train {} valid {}'.format(avg_loss, avg_vloss))\n",
    "\n",
    "    # Log the running loss averaged per batch\n",
    "    # for both training and validation\n",
    "    writer.add_scalars('Training vs. Validation Loss',\n",
    "                    { 'Training' : avg_loss, 'Validation' : avg_vloss },\n",
    "                    epoch_number + 1)\n",
    "    writer.flush()\n",
    "\n",
    "    # Track best performance, and save the model's state\n",
    "    if avg_vloss < best_vloss:\n",
    "        best_vloss = avg_vloss\n",
    "\n",
    "        #os.mkdir('./runs/CIFAR_colorization_{}./models'.format(timestamp))\n",
    "        #model_path = './runs/CIFAR_colorization_{}./models/model_{}_{}'.format(timestamp, timestamp, epoch_number)\n",
    "        model_path = './models/model_HSV_{}_{}'.format( timestamp, epoch_number)\n",
    "        torch.save(model.state_dict(), model_path)\n",
    "        #print(f\"saved checkpoint in {model_path}\")\n",
    "\n",
    "    epoch_number += 1"
   ]
  },
  {
   "cell_type": "code",
   "execution_count": 21,
   "metadata": {},
   "outputs": [
    {
     "name": "stdout",
     "output_type": "stream",
     "text": [
      "0.45572677\n"
     ]
    },
    {
     "data": {
      "image/png": "[encoded data removed]",
      "text/plain": [
       "<Figure size 1800x600 with 3 Axes>"
      ]
     },
     "metadata": {},
     "output_type": "display_data"
    },
    {
     "name": "stdout",
     "output_type": "stream",
     "text": [
      "0.45572677\n"
     ]
    },
    {
     "data": {
      "image/png": "[encoded data removed]",
      "text/plain": [
       "<Figure size 1800x600 with 3 Axes>"
      ]
     },
     "metadata": {},
     "output_type": "display_data"
    }
   ],
   "source": [
    "import torch\n",
    "import matplotlib.pyplot as plt\n",
    "import numpy as np\n",
    "\n",
    "\n",
    "# Funktion zum Umwandeln eines Torch-Tensors in ein Numpy-Array\n",
    "def im_convert(tensor):\n",
    "    image = tensor.cpu().clone().detach().numpy()\n",
    "    image = np.transpose(image, (1, 2, 0))  # Von (C, H, W) zu (H, W, C)\n",
    "    #image = np.clip(image, 0, 1)  # Werte zwischen 0 und 1 setzen\n",
    "    return image\n",
    "\n",
    "# Visualisierungsfunktion\n",
    "def plot_images(original, grayscale, colorized):\n",
    "    original_img = im_convert(original[0])  # Originalbild (RGB)\n",
    "    grayscale_img = im_convert(grayscale[0])  # Graustufenbild\n",
    "    colorized_img = im_convert(colorized[0])  # Vom Modell eingefärbtes Bild\n",
    "    print(colorized_img.mean())\n",
    "    fig, ax = plt.subplots(1, 3, figsize=(18, 6))\n",
    "    \n",
    "    # Originalbild\n",
    "    ax[0].imshow(original_img)\n",
    "    ax[0].set_title(\"Original RGB Image\")\n",
    "    ax[0].axis('off')\n",
    "    \n",
    "    # Grauwertbild\n",
    "    ax[1].imshow(grayscale_img, cmap='gray')\n",
    "    ax[1].set_title(\"Grayscale Image\")\n",
    "    ax[1].axis('off')\n",
    "    \n",
    "    # Vom Modell eingefärbtes Bild\n",
    "    ax[2].imshow(colorized_img)\n",
    "    ax[2].set_title(\"Colorized by Model\")\n",
    "    ax[2].axis('off')\n",
    "    \n",
    "    plt.show()\n",
    "\n",
    "def denormalize(tensor):\n",
    "    # Annahme: tensor hat Form (C, H, W) und ist im Bereich [-1, 1] nach Normalisierung\n",
    "    denorm = tensor.clone()  # Erstellen einer Kopie des Tensors, um das Original zu bewahren\n",
    "    for t in range(denorm.size(0)):  # Für jeden Farbkanal\n",
    "        denorm[t] = denorm[t] * 0.5 + 0.5  # Rücknormalisierung mit Standardabweichung und Mittelwert\n",
    "    return denorm\n",
    "\n",
    "# Beispiel: Zeige ein Bild, graues Bild und das durch das Modell eingefärbte Bild an\n",
    "try:\n",
    "    model.eval()  # Schalte das Modell in den Evaluierungsmodus\n",
    "except (NameError,AttributeError) as e:\n",
    "    #loading model if not loaded already\n",
    "    #need to adjust the path manually\n",
    "    trained_model_path = \".\\models\\model_20241104_232646_18\"\n",
    "    model = ConvNet()\n",
    "    model.load_state_dict(torch.load(trained_model_path, weights_only=\"True\"))\n",
    "    model.eval().to(device)\n",
    "\n",
    "#if images != None:\n",
    "with torch.no_grad():  # Keine Gradient-Berechnung nötig\n",
    "    for i, (images, _) in enumerate(test_loader):\n",
    "        #images = denormalize(images)\n",
    "        grayscale_images = rgb_to_gray(images).to(device)\n",
    "        images = images.to(device)\n",
    "        # Vorhersage durch das Modell\n",
    "        outputs = model(grayscale_images)\n",
    "\n",
    "        \n",
    "        #outputs = denormalize(outputs)\n",
    "        # Plotte das Original, das Grauwertbild und das eingefärbte Bild\n",
    "        plot_images(images, grayscale_images, outputs)\n",
    "\n",
    "        break  # Nur für ein Beispiel, damit die Schleife nicht endlos läuft\"\"\"\n",
    "\n",
    "grayscale_images = rgb_to_gray(images).to(device)\n",
    "images = images.to(device)\n",
    "\n",
    "# Vorhersage durch das Modell\n",
    "outputs = model(grayscale_images)\n",
    "\n",
    "#images = denormalize(images)\n",
    "#outputs = denormalize(outputs)\n",
    "# Plotte das Original, das Grauwertbild und das eingefärbte Bild\n",
    "plot_images(images, grayscale_images, outputs)\n"
   ]
  },
  {
   "cell_type": "code",
   "execution_count": 12,
   "metadata": {},
   "outputs": [],
   "source": [
    "model = None"
   ]
  },
  {
   "cell_type": "code",
   "execution_count": null,
   "metadata": {},
   "outputs": [
    {
     "name": "stdout",
     "output_type": "stream",
     "text": [
      "tensor([[[0.6627, 0.6588, 0.6627,  ..., 0.6510, 0.4392, 0.3647],\n",
      "         [0.6706, 0.6667, 0.6706,  ..., 0.3725, 0.3412, 0.5059],\n",
      "         [0.6784, 0.6784, 0.6824,  ..., 0.4000, 0.5137, 0.4980],\n",
      "         ...,\n",
      "         [0.9020, 0.8392, 0.7882,  ..., 0.7020, 0.6980, 0.7137],\n",
      "         [0.7059, 0.6980, 0.6039,  ..., 0.7176, 0.6588, 0.7098],\n",
      "         [0.4353, 0.4275, 0.3216,  ..., 0.7059, 0.6588, 0.7059]],\n",
      "\n",
      "        [[0.7843, 0.7804, 0.7843,  ..., 0.7333, 0.4980, 0.3961],\n",
      "         [0.7922, 0.7882, 0.7882,  ..., 0.4392, 0.3843, 0.5176],\n",
      "         [0.8000, 0.8000, 0.8039,  ..., 0.4314, 0.5098, 0.4745],\n",
      "         ...,\n",
      "         [0.8314, 0.7647, 0.7176,  ..., 0.6667, 0.6627, 0.6745],\n",
      "         [0.6667, 0.6549, 0.5647,  ..., 0.6824, 0.6235, 0.6706],\n",
      "         [0.4392, 0.4235, 0.3255,  ..., 0.6706, 0.6235, 0.6667]],\n",
      "\n",
      "        [[0.9725, 0.9647, 0.9686,  ..., 0.8118, 0.5294, 0.4078],\n",
      "         [0.9765, 0.9686, 0.9725,  ..., 0.4510, 0.3686, 0.5216],\n",
      "         [0.9765, 0.9686, 0.9765,  ..., 0.4510, 0.5176, 0.4549],\n",
      "         ...,\n",
      "         [0.7765, 0.7216, 0.6863,  ..., 0.6353, 0.6314, 0.6353],\n",
      "         [0.6392, 0.6392, 0.5647,  ..., 0.6471, 0.5922, 0.6314],\n",
      "         [0.4431, 0.4431, 0.3529,  ..., 0.6392, 0.5922, 0.6275]]],\n",
      "       device='cuda:0')\n",
      "torch.Size([32, 32])\n"
     ]
    }
   ],
   "source": [
    "for i, (images, _) in enumerate(train)"
   ]
  },
  {
   "cell_type": "code",
   "execution_count": null,
   "metadata": {},
   "outputs": [],
   "source": [
    "image = torchvision.transforms.functional.to_pil_image(original, mode=None)\n",
    "image.show()\n"
   ]
  }
 ],
 "metadata": {
  "kernelspec": {
   "display_name": "Python 3",
   "language": "python",
   "name": "python3"
  },
  "language_info": {
   "codemirror_mode": {
    "name": "ipython",
    "version": 3
   },
   "file_extension": ".py",
   "mimetype": "text/x-python",
   "name": "python",
   "nbconvert_exporter": "python",
   "pygments_lexer": "ipython3",
   "version": "3.11.10"
  }
 },
 "nbformat": 4,
 "nbformat_minor": 2
}
